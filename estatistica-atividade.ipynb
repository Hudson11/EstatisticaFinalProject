{
 "cells": [
  {
   "cell_type": "code",
   "execution_count": 1,
   "metadata": {},
   "outputs": [],
   "source": [
    "import pandas as pd\n",
    "import numpy as np\n",
    "import seaborn as sns # graficos\n",
    "import matplotlib.pyplot as plt # graficos\n",
    "import plotly.express as px # graficos"
   ]
  },
  {
   "cell_type": "code",
   "execution_count": 2,
   "metadata": {},
   "outputs": [],
   "source": [
    "# importando o dataset\n",
    "data = pd.read_csv('/home/hudson/Downloads/dataset.csv')"
   ]
  },
  {
   "cell_type": "code",
   "execution_count": 65,
   "metadata": {},
   "outputs": [
    {
     "name": "stdout",
     "output_type": "stream",
     "text": [
      "<class 'pandas.core.frame.DataFrame'>\n",
      "RangeIndex: 10692 entries, 0 to 10691\n",
      "Data columns (total 13 columns):\n",
      " #   Column               Non-Null Count  Dtype \n",
      "---  ------               --------------  ----- \n",
      " 0   city                 10692 non-null  object\n",
      " 1   area                 10692 non-null  int64 \n",
      " 2   rooms                10692 non-null  int64 \n",
      " 3   bathroom             10692 non-null  int64 \n",
      " 4   parking spaces       10692 non-null  int64 \n",
      " 5   floor                10692 non-null  object\n",
      " 6   animal               10692 non-null  object\n",
      " 7   furniture            10692 non-null  object\n",
      " 8   hoa (R$)             10692 non-null  int64 \n",
      " 9   rent amount (R$)     10692 non-null  int64 \n",
      " 10  property tax (R$)    10692 non-null  int64 \n",
      " 11  fire insurance (R$)  10692 non-null  int64 \n",
      " 12  total (R$)           10692 non-null  int64 \n",
      "dtypes: int64(9), object(4)\n",
      "memory usage: 1.1+ MB\n"
     ]
    }
   ],
   "source": [
    "data.info()"
   ]
  },
  {
   "cell_type": "code",
   "execution_count": 4,
   "metadata": {},
   "outputs": [
    {
     "data": {
      "text/html": [
       "<div>\n",
       "<style scoped>\n",
       "    .dataframe tbody tr th:only-of-type {\n",
       "        vertical-align: middle;\n",
       "    }\n",
       "\n",
       "    .dataframe tbody tr th {\n",
       "        vertical-align: top;\n",
       "    }\n",
       "\n",
       "    .dataframe thead th {\n",
       "        text-align: right;\n",
       "    }\n",
       "</style>\n",
       "<table border=\"1\" class=\"dataframe\">\n",
       "  <thead>\n",
       "    <tr style=\"text-align: right;\">\n",
       "      <th></th>\n",
       "      <th>area</th>\n",
       "      <th>rooms</th>\n",
       "      <th>bathroom</th>\n",
       "      <th>parking spaces</th>\n",
       "      <th>hoa (R$)</th>\n",
       "      <th>rent amount (R$)</th>\n",
       "      <th>property tax (R$)</th>\n",
       "      <th>fire insurance (R$)</th>\n",
       "      <th>total (R$)</th>\n",
       "    </tr>\n",
       "  </thead>\n",
       "  <tbody>\n",
       "    <tr>\n",
       "      <th>count</th>\n",
       "      <td>10692.000000</td>\n",
       "      <td>10692.000000</td>\n",
       "      <td>10692.000000</td>\n",
       "      <td>10692.000000</td>\n",
       "      <td>1.069200e+04</td>\n",
       "      <td>10692.000000</td>\n",
       "      <td>10692.000000</td>\n",
       "      <td>10692.000000</td>\n",
       "      <td>1.069200e+04</td>\n",
       "    </tr>\n",
       "    <tr>\n",
       "      <th>mean</th>\n",
       "      <td>149.217920</td>\n",
       "      <td>2.506079</td>\n",
       "      <td>2.236813</td>\n",
       "      <td>1.609147</td>\n",
       "      <td>1.174022e+03</td>\n",
       "      <td>3896.247194</td>\n",
       "      <td>366.704358</td>\n",
       "      <td>53.300879</td>\n",
       "      <td>5.490487e+03</td>\n",
       "    </tr>\n",
       "    <tr>\n",
       "      <th>std</th>\n",
       "      <td>537.016942</td>\n",
       "      <td>1.171266</td>\n",
       "      <td>1.407198</td>\n",
       "      <td>1.589521</td>\n",
       "      <td>1.559231e+04</td>\n",
       "      <td>3408.545518</td>\n",
       "      <td>3107.832321</td>\n",
       "      <td>47.768031</td>\n",
       "      <td>1.648473e+04</td>\n",
       "    </tr>\n",
       "    <tr>\n",
       "      <th>min</th>\n",
       "      <td>11.000000</td>\n",
       "      <td>1.000000</td>\n",
       "      <td>1.000000</td>\n",
       "      <td>0.000000</td>\n",
       "      <td>0.000000e+00</td>\n",
       "      <td>450.000000</td>\n",
       "      <td>0.000000</td>\n",
       "      <td>3.000000</td>\n",
       "      <td>4.990000e+02</td>\n",
       "    </tr>\n",
       "    <tr>\n",
       "      <th>25%</th>\n",
       "      <td>56.000000</td>\n",
       "      <td>2.000000</td>\n",
       "      <td>1.000000</td>\n",
       "      <td>0.000000</td>\n",
       "      <td>1.700000e+02</td>\n",
       "      <td>1530.000000</td>\n",
       "      <td>38.000000</td>\n",
       "      <td>21.000000</td>\n",
       "      <td>2.061750e+03</td>\n",
       "    </tr>\n",
       "    <tr>\n",
       "      <th>50%</th>\n",
       "      <td>90.000000</td>\n",
       "      <td>2.000000</td>\n",
       "      <td>2.000000</td>\n",
       "      <td>1.000000</td>\n",
       "      <td>5.600000e+02</td>\n",
       "      <td>2661.000000</td>\n",
       "      <td>125.000000</td>\n",
       "      <td>36.000000</td>\n",
       "      <td>3.581500e+03</td>\n",
       "    </tr>\n",
       "    <tr>\n",
       "      <th>75%</th>\n",
       "      <td>182.000000</td>\n",
       "      <td>3.000000</td>\n",
       "      <td>3.000000</td>\n",
       "      <td>2.000000</td>\n",
       "      <td>1.237500e+03</td>\n",
       "      <td>5000.000000</td>\n",
       "      <td>375.000000</td>\n",
       "      <td>68.000000</td>\n",
       "      <td>6.768000e+03</td>\n",
       "    </tr>\n",
       "    <tr>\n",
       "      <th>max</th>\n",
       "      <td>46335.000000</td>\n",
       "      <td>13.000000</td>\n",
       "      <td>10.000000</td>\n",
       "      <td>12.000000</td>\n",
       "      <td>1.117000e+06</td>\n",
       "      <td>45000.000000</td>\n",
       "      <td>313700.000000</td>\n",
       "      <td>677.000000</td>\n",
       "      <td>1.120000e+06</td>\n",
       "    </tr>\n",
       "  </tbody>\n",
       "</table>\n",
       "</div>"
      ],
      "text/plain": [
       "               area         rooms      bathroom  parking spaces      hoa (R$)  \\\n",
       "count  10692.000000  10692.000000  10692.000000    10692.000000  1.069200e+04   \n",
       "mean     149.217920      2.506079      2.236813        1.609147  1.174022e+03   \n",
       "std      537.016942      1.171266      1.407198        1.589521  1.559231e+04   \n",
       "min       11.000000      1.000000      1.000000        0.000000  0.000000e+00   \n",
       "25%       56.000000      2.000000      1.000000        0.000000  1.700000e+02   \n",
       "50%       90.000000      2.000000      2.000000        1.000000  5.600000e+02   \n",
       "75%      182.000000      3.000000      3.000000        2.000000  1.237500e+03   \n",
       "max    46335.000000     13.000000     10.000000       12.000000  1.117000e+06   \n",
       "\n",
       "       rent amount (R$)  property tax (R$)  fire insurance (R$)    total (R$)  \n",
       "count      10692.000000       10692.000000         10692.000000  1.069200e+04  \n",
       "mean        3896.247194         366.704358            53.300879  5.490487e+03  \n",
       "std         3408.545518        3107.832321            47.768031  1.648473e+04  \n",
       "min          450.000000           0.000000             3.000000  4.990000e+02  \n",
       "25%         1530.000000          38.000000            21.000000  2.061750e+03  \n",
       "50%         2661.000000         125.000000            36.000000  3.581500e+03  \n",
       "75%         5000.000000         375.000000            68.000000  6.768000e+03  \n",
       "max        45000.000000      313700.000000           677.000000  1.120000e+06  "
      ]
     },
     "execution_count": 4,
     "metadata": {},
     "output_type": "execute_result"
    }
   ],
   "source": [
    "data.describe()"
   ]
  },
  {
   "cell_type": "code",
   "execution_count": 5,
   "metadata": {},
   "outputs": [
    {
     "data": {
      "text/html": [
       "<div>\n",
       "<style scoped>\n",
       "    .dataframe tbody tr th:only-of-type {\n",
       "        vertical-align: middle;\n",
       "    }\n",
       "\n",
       "    .dataframe tbody tr th {\n",
       "        vertical-align: top;\n",
       "    }\n",
       "\n",
       "    .dataframe thead th {\n",
       "        text-align: right;\n",
       "    }\n",
       "</style>\n",
       "<table border=\"1\" class=\"dataframe\">\n",
       "  <thead>\n",
       "    <tr style=\"text-align: right;\">\n",
       "      <th></th>\n",
       "      <th>city</th>\n",
       "      <th>area</th>\n",
       "      <th>rooms</th>\n",
       "      <th>bathroom</th>\n",
       "      <th>parking spaces</th>\n",
       "      <th>floor</th>\n",
       "      <th>animal</th>\n",
       "      <th>furniture</th>\n",
       "      <th>hoa (R$)</th>\n",
       "      <th>rent amount (R$)</th>\n",
       "      <th>property tax (R$)</th>\n",
       "      <th>fire insurance (R$)</th>\n",
       "      <th>total (R$)</th>\n",
       "    </tr>\n",
       "  </thead>\n",
       "  <tbody>\n",
       "    <tr>\n",
       "      <th>0</th>\n",
       "      <td>São Paulo</td>\n",
       "      <td>70</td>\n",
       "      <td>2</td>\n",
       "      <td>1</td>\n",
       "      <td>1</td>\n",
       "      <td>7</td>\n",
       "      <td>acept</td>\n",
       "      <td>furnished</td>\n",
       "      <td>2065</td>\n",
       "      <td>3300</td>\n",
       "      <td>211</td>\n",
       "      <td>42</td>\n",
       "      <td>5618</td>\n",
       "    </tr>\n",
       "    <tr>\n",
       "      <th>1</th>\n",
       "      <td>São Paulo</td>\n",
       "      <td>320</td>\n",
       "      <td>4</td>\n",
       "      <td>4</td>\n",
       "      <td>0</td>\n",
       "      <td>20</td>\n",
       "      <td>acept</td>\n",
       "      <td>not furnished</td>\n",
       "      <td>1200</td>\n",
       "      <td>4960</td>\n",
       "      <td>1750</td>\n",
       "      <td>63</td>\n",
       "      <td>7973</td>\n",
       "    </tr>\n",
       "    <tr>\n",
       "      <th>2</th>\n",
       "      <td>Porto Alegre</td>\n",
       "      <td>80</td>\n",
       "      <td>1</td>\n",
       "      <td>1</td>\n",
       "      <td>1</td>\n",
       "      <td>6</td>\n",
       "      <td>acept</td>\n",
       "      <td>not furnished</td>\n",
       "      <td>1000</td>\n",
       "      <td>2800</td>\n",
       "      <td>0</td>\n",
       "      <td>41</td>\n",
       "      <td>3841</td>\n",
       "    </tr>\n",
       "    <tr>\n",
       "      <th>3</th>\n",
       "      <td>Porto Alegre</td>\n",
       "      <td>51</td>\n",
       "      <td>2</td>\n",
       "      <td>1</td>\n",
       "      <td>0</td>\n",
       "      <td>2</td>\n",
       "      <td>acept</td>\n",
       "      <td>not furnished</td>\n",
       "      <td>270</td>\n",
       "      <td>1112</td>\n",
       "      <td>22</td>\n",
       "      <td>17</td>\n",
       "      <td>1421</td>\n",
       "    </tr>\n",
       "    <tr>\n",
       "      <th>4</th>\n",
       "      <td>São Paulo</td>\n",
       "      <td>25</td>\n",
       "      <td>1</td>\n",
       "      <td>1</td>\n",
       "      <td>0</td>\n",
       "      <td>1</td>\n",
       "      <td>not acept</td>\n",
       "      <td>not furnished</td>\n",
       "      <td>0</td>\n",
       "      <td>800</td>\n",
       "      <td>25</td>\n",
       "      <td>11</td>\n",
       "      <td>836</td>\n",
       "    </tr>\n",
       "    <tr>\n",
       "      <th>5</th>\n",
       "      <td>São Paulo</td>\n",
       "      <td>376</td>\n",
       "      <td>3</td>\n",
       "      <td>3</td>\n",
       "      <td>7</td>\n",
       "      <td>-</td>\n",
       "      <td>acept</td>\n",
       "      <td>not furnished</td>\n",
       "      <td>0</td>\n",
       "      <td>8000</td>\n",
       "      <td>834</td>\n",
       "      <td>121</td>\n",
       "      <td>8955</td>\n",
       "    </tr>\n",
       "    <tr>\n",
       "      <th>6</th>\n",
       "      <td>Rio de Janeiro</td>\n",
       "      <td>72</td>\n",
       "      <td>2</td>\n",
       "      <td>1</td>\n",
       "      <td>0</td>\n",
       "      <td>7</td>\n",
       "      <td>acept</td>\n",
       "      <td>not furnished</td>\n",
       "      <td>740</td>\n",
       "      <td>1900</td>\n",
       "      <td>85</td>\n",
       "      <td>25</td>\n",
       "      <td>2750</td>\n",
       "    </tr>\n",
       "    <tr>\n",
       "      <th>7</th>\n",
       "      <td>São Paulo</td>\n",
       "      <td>213</td>\n",
       "      <td>4</td>\n",
       "      <td>4</td>\n",
       "      <td>4</td>\n",
       "      <td>4</td>\n",
       "      <td>acept</td>\n",
       "      <td>not furnished</td>\n",
       "      <td>2254</td>\n",
       "      <td>3223</td>\n",
       "      <td>1735</td>\n",
       "      <td>41</td>\n",
       "      <td>7253</td>\n",
       "    </tr>\n",
       "    <tr>\n",
       "      <th>8</th>\n",
       "      <td>São Paulo</td>\n",
       "      <td>152</td>\n",
       "      <td>2</td>\n",
       "      <td>2</td>\n",
       "      <td>1</td>\n",
       "      <td>3</td>\n",
       "      <td>acept</td>\n",
       "      <td>furnished</td>\n",
       "      <td>1000</td>\n",
       "      <td>15000</td>\n",
       "      <td>250</td>\n",
       "      <td>191</td>\n",
       "      <td>16440</td>\n",
       "    </tr>\n",
       "    <tr>\n",
       "      <th>9</th>\n",
       "      <td>Rio de Janeiro</td>\n",
       "      <td>35</td>\n",
       "      <td>1</td>\n",
       "      <td>1</td>\n",
       "      <td>0</td>\n",
       "      <td>2</td>\n",
       "      <td>acept</td>\n",
       "      <td>furnished</td>\n",
       "      <td>590</td>\n",
       "      <td>2300</td>\n",
       "      <td>35</td>\n",
       "      <td>30</td>\n",
       "      <td>2955</td>\n",
       "    </tr>\n",
       "    <tr>\n",
       "      <th>10</th>\n",
       "      <td>São Paulo</td>\n",
       "      <td>26</td>\n",
       "      <td>1</td>\n",
       "      <td>1</td>\n",
       "      <td>0</td>\n",
       "      <td>2</td>\n",
       "      <td>acept</td>\n",
       "      <td>furnished</td>\n",
       "      <td>470</td>\n",
       "      <td>2100</td>\n",
       "      <td>150</td>\n",
       "      <td>27</td>\n",
       "      <td>2747</td>\n",
       "    </tr>\n",
       "    <tr>\n",
       "      <th>11</th>\n",
       "      <td>Campinas</td>\n",
       "      <td>46</td>\n",
       "      <td>1</td>\n",
       "      <td>1</td>\n",
       "      <td>1</td>\n",
       "      <td>10</td>\n",
       "      <td>acept</td>\n",
       "      <td>not furnished</td>\n",
       "      <td>550</td>\n",
       "      <td>580</td>\n",
       "      <td>43</td>\n",
       "      <td>8</td>\n",
       "      <td>1181</td>\n",
       "    </tr>\n",
       "    <tr>\n",
       "      <th>12</th>\n",
       "      <td>São Paulo</td>\n",
       "      <td>36</td>\n",
       "      <td>1</td>\n",
       "      <td>1</td>\n",
       "      <td>0</td>\n",
       "      <td>11</td>\n",
       "      <td>acept</td>\n",
       "      <td>not furnished</td>\n",
       "      <td>359</td>\n",
       "      <td>2100</td>\n",
       "      <td>70</td>\n",
       "      <td>27</td>\n",
       "      <td>2556</td>\n",
       "    </tr>\n",
       "    <tr>\n",
       "      <th>13</th>\n",
       "      <td>São Paulo</td>\n",
       "      <td>55</td>\n",
       "      <td>1</td>\n",
       "      <td>1</td>\n",
       "      <td>1</td>\n",
       "      <td>2</td>\n",
       "      <td>acept</td>\n",
       "      <td>furnished</td>\n",
       "      <td>790</td>\n",
       "      <td>4200</td>\n",
       "      <td>224</td>\n",
       "      <td>54</td>\n",
       "      <td>5268</td>\n",
       "    </tr>\n",
       "    <tr>\n",
       "      <th>14</th>\n",
       "      <td>São Paulo</td>\n",
       "      <td>100</td>\n",
       "      <td>2</td>\n",
       "      <td>2</td>\n",
       "      <td>2</td>\n",
       "      <td>24</td>\n",
       "      <td>acept</td>\n",
       "      <td>furnished</td>\n",
       "      <td>900</td>\n",
       "      <td>4370</td>\n",
       "      <td>17</td>\n",
       "      <td>56</td>\n",
       "      <td>5343</td>\n",
       "    </tr>\n",
       "    <tr>\n",
       "      <th>15</th>\n",
       "      <td>Campinas</td>\n",
       "      <td>330</td>\n",
       "      <td>4</td>\n",
       "      <td>6</td>\n",
       "      <td>6</td>\n",
       "      <td>-</td>\n",
       "      <td>acept</td>\n",
       "      <td>furnished</td>\n",
       "      <td>680</td>\n",
       "      <td>8000</td>\n",
       "      <td>328</td>\n",
       "      <td>121</td>\n",
       "      <td>9129</td>\n",
       "    </tr>\n",
       "    <tr>\n",
       "      <th>16</th>\n",
       "      <td>São Paulo</td>\n",
       "      <td>110</td>\n",
       "      <td>2</td>\n",
       "      <td>2</td>\n",
       "      <td>1</td>\n",
       "      <td>1</td>\n",
       "      <td>acept</td>\n",
       "      <td>not furnished</td>\n",
       "      <td>700</td>\n",
       "      <td>3000</td>\n",
       "      <td>122</td>\n",
       "      <td>39</td>\n",
       "      <td>3861</td>\n",
       "    </tr>\n",
       "    <tr>\n",
       "      <th>17</th>\n",
       "      <td>Rio de Janeiro</td>\n",
       "      <td>88</td>\n",
       "      <td>2</td>\n",
       "      <td>3</td>\n",
       "      <td>1</td>\n",
       "      <td>9</td>\n",
       "      <td>not acept</td>\n",
       "      <td>furnished</td>\n",
       "      <td>1614</td>\n",
       "      <td>3500</td>\n",
       "      <td>221</td>\n",
       "      <td>16</td>\n",
       "      <td>5351</td>\n",
       "    </tr>\n",
       "    <tr>\n",
       "      <th>18</th>\n",
       "      <td>Rio de Janeiro</td>\n",
       "      <td>56</td>\n",
       "      <td>2</td>\n",
       "      <td>1</td>\n",
       "      <td>0</td>\n",
       "      <td>8</td>\n",
       "      <td>acept</td>\n",
       "      <td>not furnished</td>\n",
       "      <td>800</td>\n",
       "      <td>1220</td>\n",
       "      <td>0</td>\n",
       "      <td>16</td>\n",
       "      <td>2036</td>\n",
       "    </tr>\n",
       "    <tr>\n",
       "      <th>19</th>\n",
       "      <td>São Paulo</td>\n",
       "      <td>600</td>\n",
       "      <td>4</td>\n",
       "      <td>5</td>\n",
       "      <td>6</td>\n",
       "      <td>-</td>\n",
       "      <td>acept</td>\n",
       "      <td>not furnished</td>\n",
       "      <td>0</td>\n",
       "      <td>12000</td>\n",
       "      <td>9500</td>\n",
       "      <td>181</td>\n",
       "      <td>21680</td>\n",
       "    </tr>\n",
       "    <tr>\n",
       "      <th>20</th>\n",
       "      <td>São Paulo</td>\n",
       "      <td>100</td>\n",
       "      <td>7</td>\n",
       "      <td>4</td>\n",
       "      <td>0</td>\n",
       "      <td>-</td>\n",
       "      <td>acept</td>\n",
       "      <td>not furnished</td>\n",
       "      <td>0</td>\n",
       "      <td>3800</td>\n",
       "      <td>118</td>\n",
       "      <td>58</td>\n",
       "      <td>3976</td>\n",
       "    </tr>\n",
       "    <tr>\n",
       "      <th>21</th>\n",
       "      <td>Belo Horizonte</td>\n",
       "      <td>42</td>\n",
       "      <td>1</td>\n",
       "      <td>1</td>\n",
       "      <td>1</td>\n",
       "      <td>17</td>\n",
       "      <td>not acept</td>\n",
       "      <td>furnished</td>\n",
       "      <td>470</td>\n",
       "      <td>2690</td>\n",
       "      <td>172</td>\n",
       "      <td>36</td>\n",
       "      <td>3368</td>\n",
       "    </tr>\n",
       "    <tr>\n",
       "      <th>22</th>\n",
       "      <td>São Paulo</td>\n",
       "      <td>160</td>\n",
       "      <td>3</td>\n",
       "      <td>2</td>\n",
       "      <td>2</td>\n",
       "      <td>18</td>\n",
       "      <td>acept</td>\n",
       "      <td>furnished</td>\n",
       "      <td>1530</td>\n",
       "      <td>1900</td>\n",
       "      <td>167</td>\n",
       "      <td>25</td>\n",
       "      <td>3622</td>\n",
       "    </tr>\n",
       "    <tr>\n",
       "      <th>23</th>\n",
       "      <td>São Paulo</td>\n",
       "      <td>35</td>\n",
       "      <td>1</td>\n",
       "      <td>1</td>\n",
       "      <td>0</td>\n",
       "      <td>-</td>\n",
       "      <td>acept</td>\n",
       "      <td>not furnished</td>\n",
       "      <td>0</td>\n",
       "      <td>1100</td>\n",
       "      <td>3</td>\n",
       "      <td>14</td>\n",
       "      <td>1117</td>\n",
       "    </tr>\n",
       "    <tr>\n",
       "      <th>24</th>\n",
       "      <td>Rio de Janeiro</td>\n",
       "      <td>90</td>\n",
       "      <td>3</td>\n",
       "      <td>2</td>\n",
       "      <td>1</td>\n",
       "      <td>7</td>\n",
       "      <td>acept</td>\n",
       "      <td>not furnished</td>\n",
       "      <td>800</td>\n",
       "      <td>1800</td>\n",
       "      <td>118</td>\n",
       "      <td>24</td>\n",
       "      <td>2742</td>\n",
       "    </tr>\n",
       "    <tr>\n",
       "      <th>25</th>\n",
       "      <td>São Paulo</td>\n",
       "      <td>49</td>\n",
       "      <td>1</td>\n",
       "      <td>1</td>\n",
       "      <td>1</td>\n",
       "      <td>10</td>\n",
       "      <td>acept</td>\n",
       "      <td>not furnished</td>\n",
       "      <td>480</td>\n",
       "      <td>3500</td>\n",
       "      <td>42</td>\n",
       "      <td>45</td>\n",
       "      <td>4067</td>\n",
       "    </tr>\n",
       "    <tr>\n",
       "      <th>26</th>\n",
       "      <td>São Paulo</td>\n",
       "      <td>41</td>\n",
       "      <td>1</td>\n",
       "      <td>1</td>\n",
       "      <td>1</td>\n",
       "      <td>5</td>\n",
       "      <td>not acept</td>\n",
       "      <td>furnished</td>\n",
       "      <td>600</td>\n",
       "      <td>3000</td>\n",
       "      <td>0</td>\n",
       "      <td>39</td>\n",
       "      <td>3639</td>\n",
       "    </tr>\n",
       "    <tr>\n",
       "      <th>27</th>\n",
       "      <td>Belo Horizonte</td>\n",
       "      <td>64</td>\n",
       "      <td>2</td>\n",
       "      <td>2</td>\n",
       "      <td>1</td>\n",
       "      <td>11</td>\n",
       "      <td>acept</td>\n",
       "      <td>not furnished</td>\n",
       "      <td>352</td>\n",
       "      <td>1500</td>\n",
       "      <td>80</td>\n",
       "      <td>20</td>\n",
       "      <td>1952</td>\n",
       "    </tr>\n",
       "    <tr>\n",
       "      <th>28</th>\n",
       "      <td>Campinas</td>\n",
       "      <td>208</td>\n",
       "      <td>3</td>\n",
       "      <td>2</td>\n",
       "      <td>4</td>\n",
       "      <td>-</td>\n",
       "      <td>acept</td>\n",
       "      <td>not furnished</td>\n",
       "      <td>0</td>\n",
       "      <td>3180</td>\n",
       "      <td>100</td>\n",
       "      <td>48</td>\n",
       "      <td>3328</td>\n",
       "    </tr>\n",
       "    <tr>\n",
       "      <th>29</th>\n",
       "      <td>São Paulo</td>\n",
       "      <td>20</td>\n",
       "      <td>1</td>\n",
       "      <td>1</td>\n",
       "      <td>0</td>\n",
       "      <td>5</td>\n",
       "      <td>acept</td>\n",
       "      <td>furnished</td>\n",
       "      <td>602</td>\n",
       "      <td>1800</td>\n",
       "      <td>130</td>\n",
       "      <td>23</td>\n",
       "      <td>2555</td>\n",
       "    </tr>\n",
       "    <tr>\n",
       "      <th>30</th>\n",
       "      <td>São Paulo</td>\n",
       "      <td>55</td>\n",
       "      <td>2</td>\n",
       "      <td>2</td>\n",
       "      <td>2</td>\n",
       "      <td>6</td>\n",
       "      <td>acept</td>\n",
       "      <td>not furnished</td>\n",
       "      <td>780</td>\n",
       "      <td>1068</td>\n",
       "      <td>142</td>\n",
       "      <td>14</td>\n",
       "      <td>2004</td>\n",
       "    </tr>\n",
       "    <tr>\n",
       "      <th>31</th>\n",
       "      <td>São Paulo</td>\n",
       "      <td>32</td>\n",
       "      <td>1</td>\n",
       "      <td>1</td>\n",
       "      <td>0</td>\n",
       "      <td>3</td>\n",
       "      <td>acept</td>\n",
       "      <td>not furnished</td>\n",
       "      <td>515</td>\n",
       "      <td>1700</td>\n",
       "      <td>29</td>\n",
       "      <td>22</td>\n",
       "      <td>2266</td>\n",
       "    </tr>\n",
       "    <tr>\n",
       "      <th>32</th>\n",
       "      <td>São Paulo</td>\n",
       "      <td>80</td>\n",
       "      <td>2</td>\n",
       "      <td>2</td>\n",
       "      <td>1</td>\n",
       "      <td>11</td>\n",
       "      <td>acept</td>\n",
       "      <td>not furnished</td>\n",
       "      <td>1208</td>\n",
       "      <td>2550</td>\n",
       "      <td>216</td>\n",
       "      <td>33</td>\n",
       "      <td>4007</td>\n",
       "    </tr>\n",
       "    <tr>\n",
       "      <th>33</th>\n",
       "      <td>Rio de Janeiro</td>\n",
       "      <td>45</td>\n",
       "      <td>1</td>\n",
       "      <td>1</td>\n",
       "      <td>1</td>\n",
       "      <td>10</td>\n",
       "      <td>acept</td>\n",
       "      <td>furnished</td>\n",
       "      <td>2450</td>\n",
       "      <td>2500</td>\n",
       "      <td>593</td>\n",
       "      <td>33</td>\n",
       "      <td>5576</td>\n",
       "    </tr>\n",
       "    <tr>\n",
       "      <th>34</th>\n",
       "      <td>São Paulo</td>\n",
       "      <td>350</td>\n",
       "      <td>4</td>\n",
       "      <td>4</td>\n",
       "      <td>3</td>\n",
       "      <td>8</td>\n",
       "      <td>acept</td>\n",
       "      <td>not furnished</td>\n",
       "      <td>2100</td>\n",
       "      <td>4000</td>\n",
       "      <td>500</td>\n",
       "      <td>51</td>\n",
       "      <td>6651</td>\n",
       "    </tr>\n",
       "    <tr>\n",
       "      <th>35</th>\n",
       "      <td>Porto Alegre</td>\n",
       "      <td>38</td>\n",
       "      <td>1</td>\n",
       "      <td>1</td>\n",
       "      <td>2</td>\n",
       "      <td>11</td>\n",
       "      <td>not acept</td>\n",
       "      <td>not furnished</td>\n",
       "      <td>450</td>\n",
       "      <td>1750</td>\n",
       "      <td>0</td>\n",
       "      <td>26</td>\n",
       "      <td>2226</td>\n",
       "    </tr>\n",
       "    <tr>\n",
       "      <th>36</th>\n",
       "      <td>São Paulo</td>\n",
       "      <td>30</td>\n",
       "      <td>1</td>\n",
       "      <td>1</td>\n",
       "      <td>0</td>\n",
       "      <td>1</td>\n",
       "      <td>acept</td>\n",
       "      <td>not furnished</td>\n",
       "      <td>460</td>\n",
       "      <td>1600</td>\n",
       "      <td>0</td>\n",
       "      <td>21</td>\n",
       "      <td>2081</td>\n",
       "    </tr>\n",
       "    <tr>\n",
       "      <th>37</th>\n",
       "      <td>Belo Horizonte</td>\n",
       "      <td>80</td>\n",
       "      <td>3</td>\n",
       "      <td>2</td>\n",
       "      <td>1</td>\n",
       "      <td>-</td>\n",
       "      <td>acept</td>\n",
       "      <td>not furnished</td>\n",
       "      <td>0</td>\n",
       "      <td>11000</td>\n",
       "      <td>425</td>\n",
       "      <td>181</td>\n",
       "      <td>11610</td>\n",
       "    </tr>\n",
       "    <tr>\n",
       "      <th>38</th>\n",
       "      <td>São Paulo</td>\n",
       "      <td>70</td>\n",
       "      <td>2</td>\n",
       "      <td>1</td>\n",
       "      <td>0</td>\n",
       "      <td>-</td>\n",
       "      <td>not acept</td>\n",
       "      <td>not furnished</td>\n",
       "      <td>0</td>\n",
       "      <td>1150</td>\n",
       "      <td>59</td>\n",
       "      <td>18</td>\n",
       "      <td>1227</td>\n",
       "    </tr>\n",
       "    <tr>\n",
       "      <th>39</th>\n",
       "      <td>Porto Alegre</td>\n",
       "      <td>40</td>\n",
       "      <td>1</td>\n",
       "      <td>1</td>\n",
       "      <td>1</td>\n",
       "      <td>6</td>\n",
       "      <td>acept</td>\n",
       "      <td>furnished</td>\n",
       "      <td>390</td>\n",
       "      <td>2990</td>\n",
       "      <td>0</td>\n",
       "      <td>44</td>\n",
       "      <td>3424</td>\n",
       "    </tr>\n",
       "  </tbody>\n",
       "</table>\n",
       "</div>"
      ],
      "text/plain": [
       "              city  area  rooms  bathroom  parking spaces floor     animal  \\\n",
       "0        São Paulo    70      2         1               1     7      acept   \n",
       "1        São Paulo   320      4         4               0    20      acept   \n",
       "2     Porto Alegre    80      1         1               1     6      acept   \n",
       "3     Porto Alegre    51      2         1               0     2      acept   \n",
       "4        São Paulo    25      1         1               0     1  not acept   \n",
       "5        São Paulo   376      3         3               7     -      acept   \n",
       "6   Rio de Janeiro    72      2         1               0     7      acept   \n",
       "7        São Paulo   213      4         4               4     4      acept   \n",
       "8        São Paulo   152      2         2               1     3      acept   \n",
       "9   Rio de Janeiro    35      1         1               0     2      acept   \n",
       "10       São Paulo    26      1         1               0     2      acept   \n",
       "11        Campinas    46      1         1               1    10      acept   \n",
       "12       São Paulo    36      1         1               0    11      acept   \n",
       "13       São Paulo    55      1         1               1     2      acept   \n",
       "14       São Paulo   100      2         2               2    24      acept   \n",
       "15        Campinas   330      4         6               6     -      acept   \n",
       "16       São Paulo   110      2         2               1     1      acept   \n",
       "17  Rio de Janeiro    88      2         3               1     9  not acept   \n",
       "18  Rio de Janeiro    56      2         1               0     8      acept   \n",
       "19       São Paulo   600      4         5               6     -      acept   \n",
       "20       São Paulo   100      7         4               0     -      acept   \n",
       "21  Belo Horizonte    42      1         1               1    17  not acept   \n",
       "22       São Paulo   160      3         2               2    18      acept   \n",
       "23       São Paulo    35      1         1               0     -      acept   \n",
       "24  Rio de Janeiro    90      3         2               1     7      acept   \n",
       "25       São Paulo    49      1         1               1    10      acept   \n",
       "26       São Paulo    41      1         1               1     5  not acept   \n",
       "27  Belo Horizonte    64      2         2               1    11      acept   \n",
       "28        Campinas   208      3         2               4     -      acept   \n",
       "29       São Paulo    20      1         1               0     5      acept   \n",
       "30       São Paulo    55      2         2               2     6      acept   \n",
       "31       São Paulo    32      1         1               0     3      acept   \n",
       "32       São Paulo    80      2         2               1    11      acept   \n",
       "33  Rio de Janeiro    45      1         1               1    10      acept   \n",
       "34       São Paulo   350      4         4               3     8      acept   \n",
       "35    Porto Alegre    38      1         1               2    11  not acept   \n",
       "36       São Paulo    30      1         1               0     1      acept   \n",
       "37  Belo Horizonte    80      3         2               1     -      acept   \n",
       "38       São Paulo    70      2         1               0     -  not acept   \n",
       "39    Porto Alegre    40      1         1               1     6      acept   \n",
       "\n",
       "        furniture  hoa (R$)  rent amount (R$)  property tax (R$)  \\\n",
       "0       furnished      2065              3300                211   \n",
       "1   not furnished      1200              4960               1750   \n",
       "2   not furnished      1000              2800                  0   \n",
       "3   not furnished       270              1112                 22   \n",
       "4   not furnished         0               800                 25   \n",
       "5   not furnished         0              8000                834   \n",
       "6   not furnished       740              1900                 85   \n",
       "7   not furnished      2254              3223               1735   \n",
       "8       furnished      1000             15000                250   \n",
       "9       furnished       590              2300                 35   \n",
       "10      furnished       470              2100                150   \n",
       "11  not furnished       550               580                 43   \n",
       "12  not furnished       359              2100                 70   \n",
       "13      furnished       790              4200                224   \n",
       "14      furnished       900              4370                 17   \n",
       "15      furnished       680              8000                328   \n",
       "16  not furnished       700              3000                122   \n",
       "17      furnished      1614              3500                221   \n",
       "18  not furnished       800              1220                  0   \n",
       "19  not furnished         0             12000               9500   \n",
       "20  not furnished         0              3800                118   \n",
       "21      furnished       470              2690                172   \n",
       "22      furnished      1530              1900                167   \n",
       "23  not furnished         0              1100                  3   \n",
       "24  not furnished       800              1800                118   \n",
       "25  not furnished       480              3500                 42   \n",
       "26      furnished       600              3000                  0   \n",
       "27  not furnished       352              1500                 80   \n",
       "28  not furnished         0              3180                100   \n",
       "29      furnished       602              1800                130   \n",
       "30  not furnished       780              1068                142   \n",
       "31  not furnished       515              1700                 29   \n",
       "32  not furnished      1208              2550                216   \n",
       "33      furnished      2450              2500                593   \n",
       "34  not furnished      2100              4000                500   \n",
       "35  not furnished       450              1750                  0   \n",
       "36  not furnished       460              1600                  0   \n",
       "37  not furnished         0             11000                425   \n",
       "38  not furnished         0              1150                 59   \n",
       "39      furnished       390              2990                  0   \n",
       "\n",
       "    fire insurance (R$)  total (R$)  \n",
       "0                    42        5618  \n",
       "1                    63        7973  \n",
       "2                    41        3841  \n",
       "3                    17        1421  \n",
       "4                    11         836  \n",
       "5                   121        8955  \n",
       "6                    25        2750  \n",
       "7                    41        7253  \n",
       "8                   191       16440  \n",
       "9                    30        2955  \n",
       "10                   27        2747  \n",
       "11                    8        1181  \n",
       "12                   27        2556  \n",
       "13                   54        5268  \n",
       "14                   56        5343  \n",
       "15                  121        9129  \n",
       "16                   39        3861  \n",
       "17                   16        5351  \n",
       "18                   16        2036  \n",
       "19                  181       21680  \n",
       "20                   58        3976  \n",
       "21                   36        3368  \n",
       "22                   25        3622  \n",
       "23                   14        1117  \n",
       "24                   24        2742  \n",
       "25                   45        4067  \n",
       "26                   39        3639  \n",
       "27                   20        1952  \n",
       "28                   48        3328  \n",
       "29                   23        2555  \n",
       "30                   14        2004  \n",
       "31                   22        2266  \n",
       "32                   33        4007  \n",
       "33                   33        5576  \n",
       "34                   51        6651  \n",
       "35                   26        2226  \n",
       "36                   21        2081  \n",
       "37                  181       11610  \n",
       "38                   18        1227  \n",
       "39                   44        3424  "
      ]
     },
     "execution_count": 5,
     "metadata": {},
     "output_type": "execute_result"
    }
   ],
   "source": [
    "data.head(40)"
   ]
  },
  {
   "cell_type": "code",
   "execution_count": 6,
   "metadata": {},
   "outputs": [
    {
     "data": {
      "text/plain": [
       "Index(['city', 'area', 'rooms', 'bathroom', 'parking spaces', 'floor',\n",
       "       'animal', 'furniture', 'hoa (R$)', 'rent amount (R$)',\n",
       "       'property tax (R$)', 'fire insurance (R$)', 'total (R$)'],\n",
       "      dtype='object')"
      ]
     },
     "execution_count": 6,
     "metadata": {},
     "output_type": "execute_result"
    }
   ],
   "source": [
    "data.columns"
   ]
  },
  {
   "cell_type": "code",
   "execution_count": 7,
   "metadata": {},
   "outputs": [
    {
     "data": {
      "text/plain": [
       "<bound method DataFrame.notnull of        total (R$)\n",
       "0            5618\n",
       "1            7973\n",
       "2            3841\n",
       "3            1421\n",
       "4             836\n",
       "...           ...\n",
       "10687        1926\n",
       "10688       19260\n",
       "10689        7390\n",
       "10690       14020\n",
       "10691        1587\n",
       "\n",
       "[10692 rows x 1 columns]>"
      ]
     },
     "execution_count": 7,
     "metadata": {},
     "output_type": "execute_result"
    }
   ],
   "source": [
    "data[['total (R$)']].notnull"
   ]
  },
  {
   "cell_type": "code",
   "execution_count": 8,
   "metadata": {},
   "outputs": [
    {
     "name": "stderr",
     "output_type": "stream",
     "text": [
      "/home/hudson/.local/lib/python3.8/site-packages/pandas/core/ops/array_ops.py:253: FutureWarning: elementwise comparison failed; returning scalar instead, but in the future will perform elementwise comparison\n",
      "  res_values = method(rvalues)\n"
     ]
    },
    {
     "data": {
      "text/plain": [
       "city                      0\n",
       "area                      0\n",
       "rooms                     0\n",
       "bathroom                  0\n",
       "parking spaces            0\n",
       "floor                  2461\n",
       "animal                    0\n",
       "furniture                 0\n",
       "hoa (R$)                  0\n",
       "rent amount (R$)          0\n",
       "property tax (R$)         0\n",
       "fire insurance (R$)       0\n",
       "total (R$)                0\n",
       "dtype: int64"
      ]
     },
     "execution_count": 8,
     "metadata": {},
     "output_type": "execute_result"
    }
   ],
   "source": [
    "# dados faltantes\n",
    "data[(data[:] == '-') | (data[:] == np.nan)].count()"
   ]
  },
  {
   "cell_type": "code",
   "execution_count": 9,
   "metadata": {},
   "outputs": [
    {
     "data": {
      "text/plain": [
       "[Text(0.5, 0, 'Cidades'), Text(0, 0.5, 'Quantidade de imóveis')]"
      ]
     },
     "execution_count": 9,
     "metadata": {},
     "output_type": "execute_result"
    },
    {
     "data": {
      "image/png": "[encoded data removed]",
      "text/plain": [
       "<Figure size 432x288 with 1 Axes>"
      ]
     },
     "metadata": {
      "needs_background": "light"
     },
     "output_type": "display_data"
    }
   ],
   "source": [
    "# quantidades de imóveis por Cidade\n",
    "ax = sns.countplot(data['city'])\n",
    "ax.set(xlabel='Cidades', ylabel='Quantidade de imóveis')"
   ]
  },
  {
   "cell_type": "code",
   "execution_count": 10,
   "metadata": {},
   "outputs": [
    {
     "data": {
      "text/plain": [
       "(array([0, 1, 2, 3, 4]),\n",
       " [Text(0, 0, 'Belo Horizonte'),\n",
       "  Text(1, 0, 'Campinas'),\n",
       "  Text(2, 0, 'Rio de Janeiro'),\n",
       "  Text(3, 0, 'Porto Alegre'),\n",
       "  Text(4, 0, 'São Paulo')])"
      ]
     },
     "execution_count": 10,
     "metadata": {},
     "output_type": "execute_result"
    },
    {
     "data": {
      "image/png": "[encoded data removed]",
      "text/plain": [
       "<Figure size 432x288 with 1 Axes>"
      ]
     },
     "metadata": {
      "needs_background": "light"
     },
     "output_type": "display_data"
    }
   ],
   "source": [
    "# valor médio de dispesas dos imóveis por Cidade\n",
    "total = data.groupby('city')[['total (R$)']].median()\n",
    "total['city'] = np.flip(data['city'].unique())\n",
    "ax = sns.barplot(data=total, y='total (R$)', x='city')\n",
    "plt.xticks(rotation = 90)"
   ]
  },
  {
   "cell_type": "code",
   "execution_count": 11,
   "metadata": {},
   "outputs": [
    {
     "data": {
      "image/png": "[encoded data removed]",
      "text/plain": [
       "<Figure size 432x288 with 1 Axes>"
      ]
     },
     "metadata": {
      "needs_background": "light"
     },
     "output_type": "display_data"
    }
   ],
   "source": [
    "# desvio padrão de dispesas dos imóveis por Cidade\n",
    "total = data.groupby('city')[['total (R$)']].std()\n",
    "total['city'] = np.flip(data['city'].unique())\n",
    "ax = sns.barplot(data=total, y='total (R$)', x='city')"
   ]
  },
  {
   "cell_type": "code",
   "execution_count": 12,
   "metadata": {},
   "outputs": [
    {
     "data": {
      "text/plain": [
       "(array([0, 1, 2, 3, 4]),\n",
       " [Text(0, 0, 'Belo Horizonte'),\n",
       "  Text(1, 0, 'Campinas'),\n",
       "  Text(2, 0, 'Rio de Janeiro'),\n",
       "  Text(3, 0, 'Porto Alegre'),\n",
       "  Text(4, 0, 'São Paulo')])"
      ]
     },
     "execution_count": 12,
     "metadata": {},
     "output_type": "execute_result"
    },
    {
     "data": {
      "image/png": "[encoded data removed]",
      "text/plain": [
       "<Figure size 432x288 with 1 Axes>"
      ]
     },
     "metadata": {
      "needs_background": "light"
     },
     "output_type": "display_data"
    }
   ],
   "source": [
    "# valor médio do aluguel por cidade\n",
    "total = data.groupby('city')[['rent amount (R$)']].median()\n",
    "total['city'] = np.flip(data['city'].unique())\n",
    "ax = sns.barplot(data=total, y='rent amount (R$)', x='city')\n",
    "plt.xticks(rotation = 90)"
   ]
  },
  {
   "cell_type": "code",
   "execution_count": 13,
   "metadata": {},
   "outputs": [
    {
     "data": {
      "image/png": "[encoded data removed]",
      "text/plain": [
       "<Figure size 576x288 with 1 Axes>"
      ]
     },
     "metadata": {
      "needs_background": "light"
     },
     "output_type": "display_data"
    },
    {
     "data": {
      "image/png": "[encoded data removed]",
      "text/plain": [
       "<Figure size 576x288 with 1 Axes>"
      ]
     },
     "metadata": {
      "needs_background": "light"
     },
     "output_type": "display_data"
    },
    {
     "data": {
      "image/png": "[encoded data removed]",
      "text/plain": [
       "<Figure size 576x288 with 1 Axes>"
      ]
     },
     "metadata": {
      "needs_background": "light"
     },
     "output_type": "display_data"
    },
    {
     "data": {
      "image/png": "[encoded data removed]",
      "text/plain": [
       "<Figure size 576x288 with 1 Axes>"
      ]
     },
     "metadata": {
      "needs_background": "light"
     },
     "output_type": "display_data"
    },
    {
     "data": {
      "image/png": "[encoded data removed]",
      "text/plain": [
       "<Figure size 576x288 with 1 Axes>"
      ]
     },
     "metadata": {
      "needs_background": "light"
     },
     "output_type": "display_data"
    }
   ],
   "source": [
    "# histograma com densidade estimada (seguro contra fogo)\n",
    "cidades = data['city'].unique()\n",
    "for a in cidades:\n",
    "    plt.figure(figsize = (8, 4))\n",
    "    sns.distplot(data[data['city'] == a]['rent amount (R$)'])\n",
    "    plt.xlabel('Média do Raio')\n",
    "    plt.ylabel('Probabilidade')\n",
    "    plt.title(f'Distribuição da Média do Raio {a}')"
   ]
  },
  {
   "cell_type": "code",
   "execution_count": 14,
   "metadata": {},
   "outputs": [
    {
     "name": "stdout",
     "output_type": "stream",
     "text": [
      "Cidade ->  São Paulo\n",
      "Média do valor geral dos   imóveis ->  6380.83\n",
      "Mediana do valor geral dos imóveis ->  4596.0\n",
      "Desvio padrão geral dos    imóveis ->  7541.32\n",
      "Cidade ->  Porto Alegre\n",
      "Média do valor geral dos   imóveis ->  2989.78\n",
      "Mediana do valor geral dos imóveis ->  2211.0\n",
      "Desvio padrão geral dos    imóveis ->  2734.5\n",
      "Cidade ->  Rio de Janeiro\n",
      "Média do valor geral dos   imóveis ->  4611.68\n",
      "Mediana do valor geral dos imóveis ->  3253.0\n",
      "Desvio padrão geral dos    imóveis ->  4425.36\n",
      "Cidade ->  Campinas\n",
      "Média do valor geral dos   imóveis ->  3173.28\n",
      "Mediana do valor geral dos imóveis ->  2140.0\n",
      "Desvio padrão geral dos    imóveis ->  2857.28\n",
      "Cidade ->  Belo Horizonte\n",
      "Média do valor geral dos   imóveis ->  6315.24\n",
      "Mediana do valor geral dos imóveis ->  3040.0\n",
      "Desvio padrão geral dos    imóveis ->  44654.83\n"
     ]
    }
   ],
   "source": [
    " # Estatísticas gerais de dispesas por cidade\n",
    "\n",
    "cidades = data['city'].unique()\n",
    "\n",
    "for a in cidades:\n",
    "    print('Cidade -> ', a)\n",
    "    print('Média do valor geral dos   imóveis -> ', data[data['city'] == a]['total (R$)'].mean().round(2))\n",
    "    print('Mediana do valor geral dos imóveis -> ', data[data['city'] == a]['total (R$)'].median().round(2))\n",
    "    print('Desvio padrão geral dos    imóveis -> ', data[data['city'] == a]['total (R$)'].std().round(2))"
   ]
  },
  {
   "cell_type": "code",
   "execution_count": 15,
   "metadata": {},
   "outputs": [
    {
     "name": "stdout",
     "output_type": "stream",
     "text": [
      "Média do valor geral dos   imóveis ->  3896.247194163861\n",
      "Mediana do valor geral dos imóveis ->  2661.0\n",
      "Desvio padrão geral dos    imóveis ->  3408.5455176710675\n"
     ]
    }
   ],
   "source": [
    "# Estatísticas gerais de aluguel\n",
    "print('Média do valor geral dos   imóveis -> ', data['rent amount (R$)'].mean())\n",
    "print('Mediana do valor geral dos imóveis -> ', data['rent amount (R$)'].median())\n",
    "print('Desvio padrão geral dos    imóveis -> ', data['rent amount (R$)'].std())"
   ]
  },
  {
   "cell_type": "code",
   "execution_count": 16,
   "metadata": {},
   "outputs": [
    {
     "data": {
      "text/plain": [
       "Text(0.5, 1.0, 'Correlações entre as Variáveis')"
      ]
     },
     "execution_count": 16,
     "metadata": {},
     "output_type": "execute_result"
    },
    {
     "data": {
      "image/png": "[encoded data removed]",
      "text/plain": [
       "<Figure size 1296x720 with 2 Axes>"
      ]
     },
     "metadata": {
      "needs_background": "light"
     },
     "output_type": "display_data"
    }
   ],
   "source": [
    "# heatmap - correlacoes dois a dois\n",
    "\n",
    "f, ax = plt.subplots(figsize = (18, 10))\n",
    "sns.heatmap(data.corr(), annot = True, linewidth = .5, fmt = '.1f', ax = ax)\n",
    "plt.title('Correlações entre as Variáveis')"
   ]
  },
  {
   "cell_type": "markdown",
   "metadata": {},
   "source": [
    "TESTE DE HIPÓTESE"
   ]
  },
  {
   "cell_type": "code",
   "execution_count": 31,
   "metadata": {},
   "outputs": [],
   "source": [
    "from scipy import stats\n",
    "import matplotlib.pyplot as mp # Pacote gráfico"
   ]
  },
  {
   "cell_type": "code",
   "execution_count": 47,
   "metadata": {},
   "outputs": [],
   "source": [
    "dt = pd.DataFrame()\n",
    "dt['furniture'] = data['furniture']\n",
    "dt['total'] = data['total (R$)']"
   ]
  },
  {
   "cell_type": "code",
   "execution_count": null,
   "metadata": {},
   "outputs": [],
   "source": []
  },
  {
   "cell_type": "code",
   "execution_count": 48,
   "metadata": {},
   "outputs": [
    {
     "data": {
      "text/plain": [
       "<AxesSubplot:xlabel='furniture', ylabel='total'>"
      ]
     },
     "execution_count": 48,
     "metadata": {},
     "output_type": "execute_result"
    },
    {
     "data": {
      "image/png": "[encoded data removed]",
      "text/plain": [
       "<Figure size 432x288 with 1 Axes>"
      ]
     },
     "metadata": {
      "needs_background": "light"
     },
     "output_type": "display_data"
    }
   ],
   "source": [
    "sns.boxplot(y='total',x='furniture', data=dt)"
   ]
  },
  {
   "cell_type": "code",
   "execution_count": 49,
   "metadata": {},
   "outputs": [
    {
     "data": {
      "text/plain": [
       "(array([2.594e+03, 1.000e+01, 0.000e+00, 0.000e+00, 1.000e+00, 0.000e+00,\n",
       "        0.000e+00, 0.000e+00, 0.000e+00, 1.000e+00]),\n",
       " array([   710.,  22849.,  44988.,  67127.,  89266., 111405., 133544.,\n",
       "        155683., 177822., 199961., 222100.]),\n",
       " <BarContainer object of 10 artists>)"
      ]
     },
     "execution_count": 49,
     "metadata": {},
     "output_type": "execute_result"
    },
    {
     "data": {
      "image/png": "[encoded data removed]",
      "text/plain": [
       "<Figure size 432x288 with 1 Axes>"
      ]
     },
     "metadata": {
      "needs_background": "light"
     },
     "output_type": "display_data"
    }
   ],
   "source": [
    "mp.hist(dt[dt['furniture'] == 'furnished']['total'])"
   ]
  },
  {
   "cell_type": "code",
   "execution_count": 50,
   "metadata": {},
   "outputs": [
    {
     "data": {
      "text/plain": [
       "(array([8.082e+03, 0.000e+00, 2.000e+00, 0.000e+00, 0.000e+00, 0.000e+00,\n",
       "        0.000e+00, 0.000e+00, 0.000e+00, 2.000e+00]),\n",
       " array([4.9900000e+02, 1.1244910e+05, 2.2439920e+05, 3.3634930e+05,\n",
       "        4.4829940e+05, 5.6024950e+05, 6.7219960e+05, 7.8414970e+05,\n",
       "        8.9609980e+05, 1.0080499e+06, 1.1200000e+06]),\n",
       " <BarContainer object of 10 artists>)"
      ]
     },
     "execution_count": 50,
     "metadata": {},
     "output_type": "execute_result"
    },
    {
     "data": {
      "image/png": "[encoded data removed]",
      "text/plain": [
       "<Figure size 432x288 with 1 Axes>"
      ]
     },
     "metadata": {
      "needs_background": "light"
     },
     "output_type": "display_data"
    }
   ],
   "source": [
    "mp.hist(dt[dt['furniture'] == 'not furnished']['total'])"
   ]
  },
  {
   "cell_type": "code",
   "execution_count": 64,
   "metadata": {},
   "outputs": [],
   "source": [
    "a = dt[dt['furniture'] == 'furnished']['total']\n",
    "b = dt[dt['furniture'] == 'not furnished']['total']"
   ]
  },
  {
   "cell_type": "code",
   "execution_count": 66,
   "metadata": {},
   "outputs": [
    {
     "data": {
      "text/plain": [
       "Ttest_indResult(statistic=3.9090610797127336, pvalue=9.322755465383792e-05)"
      ]
     },
     "execution_count": 66,
     "metadata": {},
     "output_type": "execute_result"
    }
   ],
   "source": [
    "stats.ttest_ind(a, b, nan_policy='omit')"
   ]
  },
  {
   "cell_type": "markdown",
   "metadata": {},
   "source": [
    "SELEÇÃO DE ATRIBUTOS"
   ]
  },
  {
   "cell_type": "code",
   "execution_count": 3,
   "metadata": {},
   "outputs": [],
   "source": [
    "X = pd.DataFrame(data[['city', 'area', 'rooms', 'bathroom', 'parking spaces',\n",
    "       'animal', 'furniture', 'hoa (R$)', 'property tax (R$)', 'fire insurance (R$)', 'total (R$)']])\n",
    "Y = pd.DataFrame(data['rent amount (R$)'])\n"
   ]
  },
  {
   "cell_type": "code",
   "execution_count": 4,
   "metadata": {},
   "outputs": [],
   "source": [
    "# transform labels\n",
    "from sklearn.preprocessing import LabelEncoder\n",
    "\n",
    "# PARA CITY\n",
    "labels = X['city'].unique()\n",
    "le = LabelEncoder()\n",
    "le.fit(labels)\n",
    "X['city'] = le.transform(X['city'])\n",
    "\n",
    "# PARA ANIMAL\n",
    "labels = X['animal'].unique()\n",
    "le = LabelEncoder()\n",
    "le.fit(labels)\n",
    "X['animal'] = le.transform(X['animal'])\n",
    "\n",
    "# PARA FURNITURE\n",
    "labels = X['furniture'].unique()\n",
    "le = LabelEncoder()\n",
    "le.fit(labels)\n",
    "X['furniture'] = le.transform(X['furniture'])"
   ]
  },
  {
   "cell_type": "code",
   "execution_count": 5,
   "metadata": {},
   "outputs": [],
   "source": [
    "# criando modelo de regressão Utilizando a MLPRegressor\n",
    "from sklearn.neural_network import MLPRegressor\n",
    "from sklearn.model_selection import GridSearchCV\n",
    "from sklearn.metrics import mean_squared_error, mean_absolute_error\n",
    "from sklearn.model_selection import train_test_split"
   ]
  },
  {
   "cell_type": "code",
   "execution_count": 6,
   "metadata": {},
   "outputs": [],
   "source": [
    "# procurando a configuração ideal para o algorítmo\n",
    "\n",
    "x_train, x_test, y_train, y_test = train_test_split(X, Y, test_size=0.1, random_state=42)\n",
    "\n",
    "params = {\n",
    "    'activation': ['relu'],\n",
    "    'learning_rate': ['adaptive'],\n",
    "    'learning_rate_init': [ 0.01, 0.1 ],\n",
    "    'max_iter': [ 400, 800 ],\n",
    "    'momentum': [ 0.9, 0.7 ]\n",
    "}\n",
    "\n",
    "grid = GridSearchCV(MLPRegressor(), params, verbose=3)"
   ]
  },
  {
   "cell_type": "code",
   "execution_count": 55,
   "metadata": {},
   "outputs": [
    {
     "name": "stdout",
     "output_type": "stream",
     "text": [
      "Fitting 5 folds for each of 8 candidates, totalling 40 fits\n",
      "[CV] activation=relu, learning_rate=adaptive, learning_rate_init=0.01, max_iter=400, momentum=0.9 \n"
     ]
    },
    {
     "name": "stderr",
     "output_type": "stream",
     "text": [
      "[Parallel(n_jobs=1)]: Using backend SequentialBackend with 1 concurrent workers.\n",
      "/home/hudson/.local/lib/python3.8/site-packages/sklearn/utils/validation.py:73: DataConversionWarning: A column-vector y was passed when a 1d array was expected. Please change the shape of y to (n_samples, ), for example using ravel().\n",
      "  return f(**kwargs)\n"
     ]
    },
    {
     "name": "stdout",
     "output_type": "stream",
     "text": [
      "[CV]  activation=relu, learning_rate=adaptive, learning_rate_init=0.01, max_iter=400, momentum=0.9, score=0.974, total=   2.8s\n",
      "[CV] activation=relu, learning_rate=adaptive, learning_rate_init=0.01, max_iter=400, momentum=0.9 \n"
     ]
    },
    {
     "name": "stderr",
     "output_type": "stream",
     "text": [
      "[Parallel(n_jobs=1)]: Done   1 out of   1 | elapsed:    2.8s remaining:    0.0s\n",
      "/home/hudson/.local/lib/python3.8/site-packages/sklearn/utils/validation.py:73: DataConversionWarning: A column-vector y was passed when a 1d array was expected. Please change the shape of y to (n_samples, ), for example using ravel().\n",
      "  return f(**kwargs)\n"
     ]
    },
    {
     "name": "stdout",
     "output_type": "stream",
     "text": [
      "[CV]  activation=relu, learning_rate=adaptive, learning_rate_init=0.01, max_iter=400, momentum=0.9, score=0.990, total=   4.2s\n",
      "[CV] activation=relu, learning_rate=adaptive, learning_rate_init=0.01, max_iter=400, momentum=0.9 \n"
     ]
    },
    {
     "name": "stderr",
     "output_type": "stream",
     "text": [
      "[Parallel(n_jobs=1)]: Done   2 out of   2 | elapsed:    7.0s remaining:    0.0s\n",
      "/home/hudson/.local/lib/python3.8/site-packages/sklearn/utils/validation.py:73: DataConversionWarning: A column-vector y was passed when a 1d array was expected. Please change the shape of y to (n_samples, ), for example using ravel().\n",
      "  return f(**kwargs)\n"
     ]
    },
    {
     "name": "stdout",
     "output_type": "stream",
     "text": [
      "[CV]  activation=relu, learning_rate=adaptive, learning_rate_init=0.01, max_iter=400, momentum=0.9, score=0.983, total=   5.3s\n",
      "[CV] activation=relu, learning_rate=adaptive, learning_rate_init=0.01, max_iter=400, momentum=0.9 \n"
     ]
    },
    {
     "name": "stderr",
     "output_type": "stream",
     "text": [
      "/home/hudson/.local/lib/python3.8/site-packages/sklearn/utils/validation.py:73: DataConversionWarning: A column-vector y was passed when a 1d array was expected. Please change the shape of y to (n_samples, ), for example using ravel().\n",
      "  return f(**kwargs)\n"
     ]
    },
    {
     "name": "stdout",
     "output_type": "stream",
     "text": [
      "[CV]  activation=relu, learning_rate=adaptive, learning_rate_init=0.01, max_iter=400, momentum=0.9, score=-14.433, total=   4.8s\n",
      "[CV] activation=relu, learning_rate=adaptive, learning_rate_init=0.01, max_iter=400, momentum=0.9 \n"
     ]
    },
    {
     "name": "stderr",
     "output_type": "stream",
     "text": [
      "/home/hudson/.local/lib/python3.8/site-packages/sklearn/utils/validation.py:73: DataConversionWarning: A column-vector y was passed when a 1d array was expected. Please change the shape of y to (n_samples, ), for example using ravel().\n",
      "  return f(**kwargs)\n"
     ]
    },
    {
     "name": "stdout",
     "output_type": "stream",
     "text": [
      "[CV]  activation=relu, learning_rate=adaptive, learning_rate_init=0.01, max_iter=400, momentum=0.9, score=0.938, total=   4.4s\n",
      "[CV] activation=relu, learning_rate=adaptive, learning_rate_init=0.01, max_iter=400, momentum=0.7 \n"
     ]
    },
    {
     "name": "stderr",
     "output_type": "stream",
     "text": [
      "/home/hudson/.local/lib/python3.8/site-packages/sklearn/utils/validation.py:73: DataConversionWarning: A column-vector y was passed when a 1d array was expected. Please change the shape of y to (n_samples, ), for example using ravel().\n",
      "  return f(**kwargs)\n"
     ]
    },
    {
     "name": "stdout",
     "output_type": "stream",
     "text": [
      "[CV]  activation=relu, learning_rate=adaptive, learning_rate_init=0.01, max_iter=400, momentum=0.7, score=0.989, total=   5.4s\n",
      "[CV] activation=relu, learning_rate=adaptive, learning_rate_init=0.01, max_iter=400, momentum=0.7 \n"
     ]
    },
    {
     "name": "stderr",
     "output_type": "stream",
     "text": [
      "/home/hudson/.local/lib/python3.8/site-packages/sklearn/utils/validation.py:73: DataConversionWarning: A column-vector y was passed when a 1d array was expected. Please change the shape of y to (n_samples, ), for example using ravel().\n",
      "  return f(**kwargs)\n"
     ]
    },
    {
     "name": "stdout",
     "output_type": "stream",
     "text": [
      "[CV]  activation=relu, learning_rate=adaptive, learning_rate_init=0.01, max_iter=400, momentum=0.7, score=0.993, total=   4.6s\n",
      "[CV] activation=relu, learning_rate=adaptive, learning_rate_init=0.01, max_iter=400, momentum=0.7 \n"
     ]
    },
    {
     "name": "stderr",
     "output_type": "stream",
     "text": [
      "/home/hudson/.local/lib/python3.8/site-packages/sklearn/utils/validation.py:73: DataConversionWarning: A column-vector y was passed when a 1d array was expected. Please change the shape of y to (n_samples, ), for example using ravel().\n",
      "  return f(**kwargs)\n"
     ]
    },
    {
     "name": "stdout",
     "output_type": "stream",
     "text": [
      "[CV]  activation=relu, learning_rate=adaptive, learning_rate_init=0.01, max_iter=400, momentum=0.7, score=0.992, total=   7.4s\n",
      "[CV] activation=relu, learning_rate=adaptive, learning_rate_init=0.01, max_iter=400, momentum=0.7 \n"
     ]
    },
    {
     "name": "stderr",
     "output_type": "stream",
     "text": [
      "/home/hudson/.local/lib/python3.8/site-packages/sklearn/utils/validation.py:73: DataConversionWarning: A column-vector y was passed when a 1d array was expected. Please change the shape of y to (n_samples, ), for example using ravel().\n",
      "  return f(**kwargs)\n"
     ]
    },
    {
     "name": "stdout",
     "output_type": "stream",
     "text": [
      "[CV]  activation=relu, learning_rate=adaptive, learning_rate_init=0.01, max_iter=400, momentum=0.7, score=-9.034, total=   3.9s\n",
      "[CV] activation=relu, learning_rate=adaptive, learning_rate_init=0.01, max_iter=400, momentum=0.7 \n"
     ]
    },
    {
     "name": "stderr",
     "output_type": "stream",
     "text": [
      "/home/hudson/.local/lib/python3.8/site-packages/sklearn/utils/validation.py:73: DataConversionWarning: A column-vector y was passed when a 1d array was expected. Please change the shape of y to (n_samples, ), for example using ravel().\n",
      "  return f(**kwargs)\n"
     ]
    },
    {
     "name": "stdout",
     "output_type": "stream",
     "text": [
      "[CV]  activation=relu, learning_rate=adaptive, learning_rate_init=0.01, max_iter=400, momentum=0.7, score=-0.368, total=   3.5s\n",
      "[CV] activation=relu, learning_rate=adaptive, learning_rate_init=0.01, max_iter=800, momentum=0.9 \n"
     ]
    },
    {
     "name": "stderr",
     "output_type": "stream",
     "text": [
      "/home/hudson/.local/lib/python3.8/site-packages/sklearn/utils/validation.py:73: DataConversionWarning: A column-vector y was passed when a 1d array was expected. Please change the shape of y to (n_samples, ), for example using ravel().\n",
      "  return f(**kwargs)\n"
     ]
    },
    {
     "name": "stdout",
     "output_type": "stream",
     "text": [
      "[CV]  activation=relu, learning_rate=adaptive, learning_rate_init=0.01, max_iter=800, momentum=0.9, score=0.964, total=   5.2s\n",
      "[CV] activation=relu, learning_rate=adaptive, learning_rate_init=0.01, max_iter=800, momentum=0.9 \n"
     ]
    },
    {
     "name": "stderr",
     "output_type": "stream",
     "text": [
      "/home/hudson/.local/lib/python3.8/site-packages/sklearn/utils/validation.py:73: DataConversionWarning: A column-vector y was passed when a 1d array was expected. Please change the shape of y to (n_samples, ), for example using ravel().\n",
      "  return f(**kwargs)\n"
     ]
    },
    {
     "name": "stdout",
     "output_type": "stream",
     "text": [
      "[CV]  activation=relu, learning_rate=adaptive, learning_rate_init=0.01, max_iter=800, momentum=0.9, score=0.975, total=   4.2s\n",
      "[CV] activation=relu, learning_rate=adaptive, learning_rate_init=0.01, max_iter=800, momentum=0.9 \n"
     ]
    },
    {
     "name": "stderr",
     "output_type": "stream",
     "text": [
      "/home/hudson/.local/lib/python3.8/site-packages/sklearn/utils/validation.py:73: DataConversionWarning: A column-vector y was passed when a 1d array was expected. Please change the shape of y to (n_samples, ), for example using ravel().\n",
      "  return f(**kwargs)\n"
     ]
    },
    {
     "name": "stdout",
     "output_type": "stream",
     "text": [
      "[CV]  activation=relu, learning_rate=adaptive, learning_rate_init=0.01, max_iter=800, momentum=0.9, score=0.997, total=   9.3s\n",
      "[CV] activation=relu, learning_rate=adaptive, learning_rate_init=0.01, max_iter=800, momentum=0.9 \n"
     ]
    },
    {
     "name": "stderr",
     "output_type": "stream",
     "text": [
      "/home/hudson/.local/lib/python3.8/site-packages/sklearn/utils/validation.py:73: DataConversionWarning: A column-vector y was passed when a 1d array was expected. Please change the shape of y to (n_samples, ), for example using ravel().\n",
      "  return f(**kwargs)\n"
     ]
    },
    {
     "name": "stdout",
     "output_type": "stream",
     "text": [
      "[CV]  activation=relu, learning_rate=adaptive, learning_rate_init=0.01, max_iter=800, momentum=0.9, score=-11.327, total=   3.1s\n",
      "[CV] activation=relu, learning_rate=adaptive, learning_rate_init=0.01, max_iter=800, momentum=0.9 \n"
     ]
    },
    {
     "name": "stderr",
     "output_type": "stream",
     "text": [
      "/home/hudson/.local/lib/python3.8/site-packages/sklearn/utils/validation.py:73: DataConversionWarning: A column-vector y was passed when a 1d array was expected. Please change the shape of y to (n_samples, ), for example using ravel().\n",
      "  return f(**kwargs)\n"
     ]
    },
    {
     "name": "stdout",
     "output_type": "stream",
     "text": [
      "[CV]  activation=relu, learning_rate=adaptive, learning_rate_init=0.01, max_iter=800, momentum=0.9, score=-4.121, total=   5.7s\n",
      "[CV] activation=relu, learning_rate=adaptive, learning_rate_init=0.01, max_iter=800, momentum=0.7 \n"
     ]
    },
    {
     "name": "stderr",
     "output_type": "stream",
     "text": [
      "/home/hudson/.local/lib/python3.8/site-packages/sklearn/utils/validation.py:73: DataConversionWarning: A column-vector y was passed when a 1d array was expected. Please change the shape of y to (n_samples, ), for example using ravel().\n",
      "  return f(**kwargs)\n"
     ]
    },
    {
     "name": "stdout",
     "output_type": "stream",
     "text": [
      "[CV]  activation=relu, learning_rate=adaptive, learning_rate_init=0.01, max_iter=800, momentum=0.7, score=0.998, total=   7.9s\n",
      "[CV] activation=relu, learning_rate=adaptive, learning_rate_init=0.01, max_iter=800, momentum=0.7 \n"
     ]
    },
    {
     "name": "stderr",
     "output_type": "stream",
     "text": [
      "/home/hudson/.local/lib/python3.8/site-packages/sklearn/utils/validation.py:73: DataConversionWarning: A column-vector y was passed when a 1d array was expected. Please change the shape of y to (n_samples, ), for example using ravel().\n",
      "  return f(**kwargs)\n"
     ]
    },
    {
     "name": "stdout",
     "output_type": "stream",
     "text": [
      "[CV]  activation=relu, learning_rate=adaptive, learning_rate_init=0.01, max_iter=800, momentum=0.7, score=0.969, total=   2.8s\n",
      "[CV] activation=relu, learning_rate=adaptive, learning_rate_init=0.01, max_iter=800, momentum=0.7 \n"
     ]
    },
    {
     "name": "stderr",
     "output_type": "stream",
     "text": [
      "/home/hudson/.local/lib/python3.8/site-packages/sklearn/utils/validation.py:73: DataConversionWarning: A column-vector y was passed when a 1d array was expected. Please change the shape of y to (n_samples, ), for example using ravel().\n",
      "  return f(**kwargs)\n"
     ]
    },
    {
     "name": "stdout",
     "output_type": "stream",
     "text": [
      "[CV]  activation=relu, learning_rate=adaptive, learning_rate_init=0.01, max_iter=800, momentum=0.7, score=0.994, total=   6.1s\n",
      "[CV] activation=relu, learning_rate=adaptive, learning_rate_init=0.01, max_iter=800, momentum=0.7 \n"
     ]
    },
    {
     "name": "stderr",
     "output_type": "stream",
     "text": [
      "/home/hudson/.local/lib/python3.8/site-packages/sklearn/utils/validation.py:73: DataConversionWarning: A column-vector y was passed when a 1d array was expected. Please change the shape of y to (n_samples, ), for example using ravel().\n",
      "  return f(**kwargs)\n"
     ]
    },
    {
     "name": "stdout",
     "output_type": "stream",
     "text": [
      "[CV]  activation=relu, learning_rate=adaptive, learning_rate_init=0.01, max_iter=800, momentum=0.7, score=0.430, total=   6.0s\n",
      "[CV] activation=relu, learning_rate=adaptive, learning_rate_init=0.01, max_iter=800, momentum=0.7 \n"
     ]
    },
    {
     "name": "stderr",
     "output_type": "stream",
     "text": [
      "/home/hudson/.local/lib/python3.8/site-packages/sklearn/utils/validation.py:73: DataConversionWarning: A column-vector y was passed when a 1d array was expected. Please change the shape of y to (n_samples, ), for example using ravel().\n",
      "  return f(**kwargs)\n"
     ]
    },
    {
     "name": "stdout",
     "output_type": "stream",
     "text": [
      "[CV]  activation=relu, learning_rate=adaptive, learning_rate_init=0.01, max_iter=800, momentum=0.7, score=-7.636, total=   2.3s\n",
      "[CV] activation=relu, learning_rate=adaptive, learning_rate_init=0.1, max_iter=400, momentum=0.9 \n"
     ]
    },
    {
     "name": "stderr",
     "output_type": "stream",
     "text": [
      "/home/hudson/.local/lib/python3.8/site-packages/sklearn/utils/validation.py:73: DataConversionWarning: A column-vector y was passed when a 1d array was expected. Please change the shape of y to (n_samples, ), for example using ravel().\n",
      "  return f(**kwargs)\n"
     ]
    },
    {
     "name": "stdout",
     "output_type": "stream",
     "text": [
      "[CV]  activation=relu, learning_rate=adaptive, learning_rate_init=0.1, max_iter=400, momentum=0.9, score=0.994, total=  10.5s\n",
      "[CV] activation=relu, learning_rate=adaptive, learning_rate_init=0.1, max_iter=400, momentum=0.9 \n"
     ]
    },
    {
     "name": "stderr",
     "output_type": "stream",
     "text": [
      "/home/hudson/.local/lib/python3.8/site-packages/sklearn/utils/validation.py:73: DataConversionWarning: A column-vector y was passed when a 1d array was expected. Please change the shape of y to (n_samples, ), for example using ravel().\n",
      "  return f(**kwargs)\n"
     ]
    },
    {
     "name": "stdout",
     "output_type": "stream",
     "text": [
      "[CV]  activation=relu, learning_rate=adaptive, learning_rate_init=0.1, max_iter=400, momentum=0.9, score=0.993, total=   5.6s\n",
      "[CV] activation=relu, learning_rate=adaptive, learning_rate_init=0.1, max_iter=400, momentum=0.9 \n"
     ]
    },
    {
     "name": "stderr",
     "output_type": "stream",
     "text": [
      "/home/hudson/.local/lib/python3.8/site-packages/sklearn/utils/validation.py:73: DataConversionWarning: A column-vector y was passed when a 1d array was expected. Please change the shape of y to (n_samples, ), for example using ravel().\n",
      "  return f(**kwargs)\n"
     ]
    },
    {
     "name": "stdout",
     "output_type": "stream",
     "text": [
      "[CV]  activation=relu, learning_rate=adaptive, learning_rate_init=0.1, max_iter=400, momentum=0.9, score=0.929, total=   7.3s\n",
      "[CV] activation=relu, learning_rate=adaptive, learning_rate_init=0.1, max_iter=400, momentum=0.9 \n"
     ]
    },
    {
     "name": "stderr",
     "output_type": "stream",
     "text": [
      "/home/hudson/.local/lib/python3.8/site-packages/sklearn/utils/validation.py:73: DataConversionWarning: A column-vector y was passed when a 1d array was expected. Please change the shape of y to (n_samples, ), for example using ravel().\n",
      "  return f(**kwargs)\n"
     ]
    },
    {
     "name": "stdout",
     "output_type": "stream",
     "text": [
      "[CV]  activation=relu, learning_rate=adaptive, learning_rate_init=0.1, max_iter=400, momentum=0.9, score=0.979, total=   4.1s\n",
      "[CV] activation=relu, learning_rate=adaptive, learning_rate_init=0.1, max_iter=400, momentum=0.9 \n"
     ]
    },
    {
     "name": "stderr",
     "output_type": "stream",
     "text": [
      "/home/hudson/.local/lib/python3.8/site-packages/sklearn/utils/validation.py:73: DataConversionWarning: A column-vector y was passed when a 1d array was expected. Please change the shape of y to (n_samples, ), for example using ravel().\n",
      "  return f(**kwargs)\n"
     ]
    },
    {
     "name": "stdout",
     "output_type": "stream",
     "text": [
      "[CV]  activation=relu, learning_rate=adaptive, learning_rate_init=0.1, max_iter=400, momentum=0.9, score=-13.134, total=   7.8s\n",
      "[CV] activation=relu, learning_rate=adaptive, learning_rate_init=0.1, max_iter=400, momentum=0.7 \n"
     ]
    },
    {
     "name": "stderr",
     "output_type": "stream",
     "text": [
      "/home/hudson/.local/lib/python3.8/site-packages/sklearn/utils/validation.py:73: DataConversionWarning: A column-vector y was passed when a 1d array was expected. Please change the shape of y to (n_samples, ), for example using ravel().\n",
      "  return f(**kwargs)\n"
     ]
    },
    {
     "name": "stdout",
     "output_type": "stream",
     "text": [
      "[CV]  activation=relu, learning_rate=adaptive, learning_rate_init=0.1, max_iter=400, momentum=0.7, score=0.991, total=  11.3s\n",
      "[CV] activation=relu, learning_rate=adaptive, learning_rate_init=0.1, max_iter=400, momentum=0.7 \n"
     ]
    },
    {
     "name": "stderr",
     "output_type": "stream",
     "text": [
      "/home/hudson/.local/lib/python3.8/site-packages/sklearn/utils/validation.py:73: DataConversionWarning: A column-vector y was passed when a 1d array was expected. Please change the shape of y to (n_samples, ), for example using ravel().\n",
      "  return f(**kwargs)\n"
     ]
    },
    {
     "name": "stdout",
     "output_type": "stream",
     "text": [
      "[CV]  activation=relu, learning_rate=adaptive, learning_rate_init=0.1, max_iter=400, momentum=0.7, score=0.991, total=   8.4s\n",
      "[CV] activation=relu, learning_rate=adaptive, learning_rate_init=0.1, max_iter=400, momentum=0.7 \n"
     ]
    },
    {
     "name": "stderr",
     "output_type": "stream",
     "text": [
      "/home/hudson/.local/lib/python3.8/site-packages/sklearn/utils/validation.py:73: DataConversionWarning: A column-vector y was passed when a 1d array was expected. Please change the shape of y to (n_samples, ), for example using ravel().\n",
      "  return f(**kwargs)\n"
     ]
    },
    {
     "name": "stdout",
     "output_type": "stream",
     "text": [
      "[CV]  activation=relu, learning_rate=adaptive, learning_rate_init=0.1, max_iter=400, momentum=0.7, score=-1.194, total=   1.6s\n",
      "[CV] activation=relu, learning_rate=adaptive, learning_rate_init=0.1, max_iter=400, momentum=0.7 \n"
     ]
    },
    {
     "name": "stderr",
     "output_type": "stream",
     "text": [
      "/home/hudson/.local/lib/python3.8/site-packages/sklearn/utils/validation.py:73: DataConversionWarning: A column-vector y was passed when a 1d array was expected. Please change the shape of y to (n_samples, ), for example using ravel().\n",
      "  return f(**kwargs)\n"
     ]
    },
    {
     "name": "stdout",
     "output_type": "stream",
     "text": [
      "[CV]  activation=relu, learning_rate=adaptive, learning_rate_init=0.1, max_iter=400, momentum=0.7, score=-1.375, total=   1.7s\n",
      "[CV] activation=relu, learning_rate=adaptive, learning_rate_init=0.1, max_iter=400, momentum=0.7 \n"
     ]
    },
    {
     "name": "stderr",
     "output_type": "stream",
     "text": [
      "/home/hudson/.local/lib/python3.8/site-packages/sklearn/utils/validation.py:73: DataConversionWarning: A column-vector y was passed when a 1d array was expected. Please change the shape of y to (n_samples, ), for example using ravel().\n",
      "  return f(**kwargs)\n"
     ]
    },
    {
     "name": "stdout",
     "output_type": "stream",
     "text": [
      "[CV]  activation=relu, learning_rate=adaptive, learning_rate_init=0.1, max_iter=400, momentum=0.7, score=0.999, total=   4.3s\n",
      "[CV] activation=relu, learning_rate=adaptive, learning_rate_init=0.1, max_iter=800, momentum=0.9 \n"
     ]
    },
    {
     "name": "stderr",
     "output_type": "stream",
     "text": [
      "/home/hudson/.local/lib/python3.8/site-packages/sklearn/utils/validation.py:73: DataConversionWarning: A column-vector y was passed when a 1d array was expected. Please change the shape of y to (n_samples, ), for example using ravel().\n",
      "  return f(**kwargs)\n"
     ]
    },
    {
     "name": "stdout",
     "output_type": "stream",
     "text": [
      "[CV]  activation=relu, learning_rate=adaptive, learning_rate_init=0.1, max_iter=800, momentum=0.9, score=0.992, total=   3.2s\n",
      "[CV] activation=relu, learning_rate=adaptive, learning_rate_init=0.1, max_iter=800, momentum=0.9 \n"
     ]
    },
    {
     "name": "stderr",
     "output_type": "stream",
     "text": [
      "/home/hudson/.local/lib/python3.8/site-packages/sklearn/utils/validation.py:73: DataConversionWarning: A column-vector y was passed when a 1d array was expected. Please change the shape of y to (n_samples, ), for example using ravel().\n",
      "  return f(**kwargs)\n"
     ]
    },
    {
     "name": "stdout",
     "output_type": "stream",
     "text": [
      "[CV]  activation=relu, learning_rate=adaptive, learning_rate_init=0.1, max_iter=800, momentum=0.9, score=0.997, total=   3.4s\n",
      "[CV] activation=relu, learning_rate=adaptive, learning_rate_init=0.1, max_iter=800, momentum=0.9 \n"
     ]
    },
    {
     "name": "stderr",
     "output_type": "stream",
     "text": [
      "/home/hudson/.local/lib/python3.8/site-packages/sklearn/utils/validation.py:73: DataConversionWarning: A column-vector y was passed when a 1d array was expected. Please change the shape of y to (n_samples, ), for example using ravel().\n",
      "  return f(**kwargs)\n"
     ]
    },
    {
     "name": "stdout",
     "output_type": "stream",
     "text": [
      "[CV]  activation=relu, learning_rate=adaptive, learning_rate_init=0.1, max_iter=800, momentum=0.9, score=0.986, total=   7.3s\n",
      "[CV] activation=relu, learning_rate=adaptive, learning_rate_init=0.1, max_iter=800, momentum=0.9 \n"
     ]
    },
    {
     "name": "stderr",
     "output_type": "stream",
     "text": [
      "/home/hudson/.local/lib/python3.8/site-packages/sklearn/utils/validation.py:73: DataConversionWarning: A column-vector y was passed when a 1d array was expected. Please change the shape of y to (n_samples, ), for example using ravel().\n",
      "  return f(**kwargs)\n"
     ]
    },
    {
     "name": "stdout",
     "output_type": "stream",
     "text": [
      "[CV]  activation=relu, learning_rate=adaptive, learning_rate_init=0.1, max_iter=800, momentum=0.9, score=-1.384, total=   1.5s\n",
      "[CV] activation=relu, learning_rate=adaptive, learning_rate_init=0.1, max_iter=800, momentum=0.9 \n"
     ]
    },
    {
     "name": "stderr",
     "output_type": "stream",
     "text": [
      "/home/hudson/.local/lib/python3.8/site-packages/sklearn/utils/validation.py:73: DataConversionWarning: A column-vector y was passed when a 1d array was expected. Please change the shape of y to (n_samples, ), for example using ravel().\n",
      "  return f(**kwargs)\n"
     ]
    },
    {
     "name": "stdout",
     "output_type": "stream",
     "text": [
      "[CV]  activation=relu, learning_rate=adaptive, learning_rate_init=0.1, max_iter=800, momentum=0.9, score=0.990, total=  24.0s\n",
      "[CV] activation=relu, learning_rate=adaptive, learning_rate_init=0.1, max_iter=800, momentum=0.7 \n"
     ]
    },
    {
     "name": "stderr",
     "output_type": "stream",
     "text": [
      "/home/hudson/.local/lib/python3.8/site-packages/sklearn/utils/validation.py:73: DataConversionWarning: A column-vector y was passed when a 1d array was expected. Please change the shape of y to (n_samples, ), for example using ravel().\n",
      "  return f(**kwargs)\n"
     ]
    },
    {
     "name": "stdout",
     "output_type": "stream",
     "text": [
      "[CV]  activation=relu, learning_rate=adaptive, learning_rate_init=0.1, max_iter=800, momentum=0.7, score=0.992, total=  10.4s\n",
      "[CV] activation=relu, learning_rate=adaptive, learning_rate_init=0.1, max_iter=800, momentum=0.7 \n"
     ]
    },
    {
     "name": "stderr",
     "output_type": "stream",
     "text": [
      "/home/hudson/.local/lib/python3.8/site-packages/sklearn/utils/validation.py:73: DataConversionWarning: A column-vector y was passed when a 1d array was expected. Please change the shape of y to (n_samples, ), for example using ravel().\n",
      "  return f(**kwargs)\n"
     ]
    },
    {
     "name": "stdout",
     "output_type": "stream",
     "text": [
      "[CV]  activation=relu, learning_rate=adaptive, learning_rate_init=0.1, max_iter=800, momentum=0.7, score=0.917, total=   3.9s\n",
      "[CV] activation=relu, learning_rate=adaptive, learning_rate_init=0.1, max_iter=800, momentum=0.7 \n"
     ]
    },
    {
     "name": "stderr",
     "output_type": "stream",
     "text": [
      "/home/hudson/.local/lib/python3.8/site-packages/sklearn/utils/validation.py:73: DataConversionWarning: A column-vector y was passed when a 1d array was expected. Please change the shape of y to (n_samples, ), for example using ravel().\n",
      "  return f(**kwargs)\n"
     ]
    },
    {
     "name": "stdout",
     "output_type": "stream",
     "text": [
      "[CV]  activation=relu, learning_rate=adaptive, learning_rate_init=0.1, max_iter=800, momentum=0.7, score=-0.070, total=   6.8s\n",
      "[CV] activation=relu, learning_rate=adaptive, learning_rate_init=0.1, max_iter=800, momentum=0.7 \n"
     ]
    },
    {
     "name": "stderr",
     "output_type": "stream",
     "text": [
      "/home/hudson/.local/lib/python3.8/site-packages/sklearn/utils/validation.py:73: DataConversionWarning: A column-vector y was passed when a 1d array was expected. Please change the shape of y to (n_samples, ), for example using ravel().\n",
      "  return f(**kwargs)\n"
     ]
    },
    {
     "name": "stdout",
     "output_type": "stream",
     "text": [
      "[CV]  activation=relu, learning_rate=adaptive, learning_rate_init=0.1, max_iter=800, momentum=0.7, score=0.842, total=   3.8s\n",
      "[CV] activation=relu, learning_rate=adaptive, learning_rate_init=0.1, max_iter=800, momentum=0.7 \n"
     ]
    },
    {
     "name": "stderr",
     "output_type": "stream",
     "text": [
      "/home/hudson/.local/lib/python3.8/site-packages/sklearn/utils/validation.py:73: DataConversionWarning: A column-vector y was passed when a 1d array was expected. Please change the shape of y to (n_samples, ), for example using ravel().\n",
      "  return f(**kwargs)\n"
     ]
    },
    {
     "name": "stdout",
     "output_type": "stream",
     "text": [
      "[CV]  activation=relu, learning_rate=adaptive, learning_rate_init=0.1, max_iter=800, momentum=0.7, score=-48.681, total=   8.0s\n"
     ]
    },
    {
     "name": "stderr",
     "output_type": "stream",
     "text": [
      "[Parallel(n_jobs=1)]: Done  40 out of  40 | elapsed:  3.9min finished\n",
      "/home/hudson/.local/lib/python3.8/site-packages/sklearn/utils/validation.py:73: DataConversionWarning: A column-vector y was passed when a 1d array was expected. Please change the shape of y to (n_samples, ), for example using ravel().\n",
      "  return f(**kwargs)\n"
     ]
    },
    {
     "data": {
      "text/plain": [
       "GridSearchCV(estimator=MLPRegressor(),\n",
       "             param_grid={'activation': ['relu'], 'learning_rate': ['adaptive'],\n",
       "                         'learning_rate_init': [0.01, 0.1],\n",
       "                         'max_iter': [400, 800], 'momentum': [0.9, 0.7]},\n",
       "             verbose=3)"
      ]
     },
     "execution_count": 55,
     "metadata": {},
     "output_type": "execute_result"
    }
   ],
   "source": [
    "grid.fit(x_train, y_train)"
   ]
  },
  {
   "cell_type": "code",
   "execution_count": 7,
   "metadata": {},
   "outputs": [
    {
     "ename": "AttributeError",
     "evalue": "'GridSearchCV' object has no attribute 'best_params_'",
     "output_type": "error",
     "traceback": [
      "\u001b[0;31m---------------------------------------------------------------------------\u001b[0m",
      "\u001b[0;31mAttributeError\u001b[0m                            Traceback (most recent call last)",
      "\u001b[0;32m<ipython-input-7-28c2e4d7952c>\u001b[0m in \u001b[0;36m<module>\u001b[0;34m\u001b[0m\n\u001b[0;32m----> 1\u001b[0;31m \u001b[0mgrid\u001b[0m\u001b[0;34m.\u001b[0m\u001b[0mbest_params_\u001b[0m\u001b[0;34m\u001b[0m\u001b[0;34m\u001b[0m\u001b[0m\n\u001b[0m",
      "\u001b[0;31mAttributeError\u001b[0m: 'GridSearchCV' object has no attribute 'best_params_'"
     ]
    }
   ],
   "source": [
    "grid.best_params_"
   ]
  },
  {
   "cell_type": "code",
   "execution_count": 8,
   "metadata": {},
   "outputs": [
    {
     "name": "stderr",
     "output_type": "stream",
     "text": [
      "/home/hudson/.local/lib/python3.8/site-packages/sklearn/utils/validation.py:73: DataConversionWarning: A column-vector y was passed when a 1d array was expected. Please change the shape of y to (n_samples, ), for example using ravel().\n",
      "  return f(**kwargs)\n"
     ]
    },
    {
     "name": "stdout",
     "output_type": "stream",
     "text": [
      " PARA TODOS OS PARÂMETROS \n",
      " MEAN SQUARED ERROR ->  23835457.690612067\n",
      " MEAN ABSOLUT ERROR ->  3662.8582685585743\n"
     ]
    },
    {
     "name": "stderr",
     "output_type": "stream",
     "text": [
      "/home/hudson/.local/lib/python3.8/site-packages/sklearn/utils/validation.py:73: DataConversionWarning: A column-vector y was passed when a 1d array was expected. Please change the shape of y to (n_samples, ), for example using ravel().\n",
      "  return f(**kwargs)\n"
     ]
    },
    {
     "name": "stdout",
     "output_type": "stream",
     "text": [
      " PARA TODOS OS PARÂMETROS MELHOR CORRELACIONADOS\n",
      " MEAN SQUARED ERROR ->  226859.86875083757\n",
      " MEAN ABSOLUT ERROR ->  297.2690141456923\n"
     ]
    },
    {
     "name": "stderr",
     "output_type": "stream",
     "text": [
      "/home/hudson/.local/lib/python3.8/site-packages/sklearn/utils/validation.py:73: DataConversionWarning: A column-vector y was passed when a 1d array was expected. Please change the shape of y to (n_samples, ), for example using ravel().\n",
      "  return f(**kwargs)\n"
     ]
    },
    {
     "name": "stdout",
     "output_type": "stream",
     "text": [
      " PARA TODOS OS PARÂMETROS MELHOR CORRELACIONADOS\n",
      " MEAN SQUARED ERROR ->  1763772.5802160413\n",
      " MEAN ABSOLUT ERROR ->  430.2173157306721\n"
     ]
    }
   ],
   "source": [
    "# começando teste de desempenho (melhor grupo de parâmetros)\n",
    "mlp = MLPRegressor(activation='relu', learning_rate_init=0.1, learning_rate='adaptive'\n",
    "                    , max_iter=800, momentum=0.9, hidden_layer_sizes=(100, ))\n",
    "\n",
    "# com todos os parâmtros da base\n",
    "mlp.fit(x_train, y_train)\n",
    "print(' PARA TODOS OS PARÂMETROS ')\n",
    "print(' MEAN SQUARED ERROR -> ', mean_squared_error(mlp.predict(x_test), y_test))\n",
    "print(' MEAN ABSOLUT ERROR -> ', mean_absolute_error(mlp.predict(x_test), y_test))\n",
    "\n",
    "x_1 = X[['city', 'area', 'property tax (R$)', 'fire insurance (R$)']]\n",
    "\n",
    "x_train, x_test, y_train, y_test = train_test_split(x_1, Y, test_size=0.1, random_state=42)\n",
    "\n",
    "mlp = MLPRegressor(activation='relu', learning_rate_init=0.1, learning_rate='adaptive'\n",
    "                    , max_iter=800, momentum=0.9, hidden_layer_sizes=(100, ))\n",
    "# com todos os parâmtros da base\n",
    "mlp.fit(x_train, y_train)\n",
    "print(' PARA TODOS OS PARÂMETROS MELHOR CORRELACIONADOS')\n",
    "print(' MEAN SQUARED ERROR -> ', mean_squared_error(mlp.predict(x_test), y_test))\n",
    "print(' MEAN ABSOLUT ERROR -> ', mean_absolute_error(mlp.predict(x_test), y_test))\n",
    "\n",
    "x_2 = X[['city', 'area', 'property tax (R$)', 'fire insurance (R$)', 'rooms', 'bathroom']]\n",
    "\n",
    "x_train, x_test, y_train, y_test = train_test_split(x_2, Y, test_size=0.1, random_state=42)\n",
    "\n",
    "mlp = MLPRegressor(activation='relu', learning_rate_init=0.1, learning_rate='adaptive'\n",
    "                    , max_iter=800, momentum=0.9, hidden_layer_sizes=(100, ))\n",
    "# com todos os parâmtros da base\n",
    "mlp.fit(x_train, y_train)\n",
    "print(' PARA TODOS OS PARÂMETROS MELHOR CORRELACIONADOS')\n",
    "print(' MEAN SQUARED ERROR -> ', mean_squared_error(mlp.predict(x_test), y_test))\n",
    "print(' MEAN ABSOLUT ERROR -> ', mean_absolute_error(mlp.predict(x_test), y_test))"
   ]
  },
  {
   "cell_type": "code",
   "execution_count": 13,
   "metadata": {},
   "outputs": [],
   "source": [
    "results = pd.DataFrame([[220350.12, 3662.86], [226859.86875083757, 297.27], [1763772.58,  430.22]], columns=['Squared Error', 'Absolut Error'])"
   ]
  },
  {
   "cell_type": "code",
   "execution_count": 15,
   "metadata": {},
   "outputs": [
    {
     "data": {
      "text/html": [
       "<div>\n",
       "<style scoped>\n",
       "    .dataframe tbody tr th:only-of-type {\n",
       "        vertical-align: middle;\n",
       "    }\n",
       "\n",
       "    .dataframe tbody tr th {\n",
       "        vertical-align: top;\n",
       "    }\n",
       "\n",
       "    .dataframe thead th {\n",
       "        text-align: right;\n",
       "    }\n",
       "</style>\n",
       "<table border=\"1\" class=\"dataframe\">\n",
       "  <thead>\n",
       "    <tr style=\"text-align: right;\">\n",
       "      <th></th>\n",
       "      <th>Squared Error</th>\n",
       "      <th>Absolut Error</th>\n",
       "    </tr>\n",
       "  </thead>\n",
       "  <tbody>\n",
       "    <tr>\n",
       "      <th>Grupo 1</th>\n",
       "      <td>2.203501e+05</td>\n",
       "      <td>3662.86</td>\n",
       "    </tr>\n",
       "    <tr>\n",
       "      <th>Grupo 2</th>\n",
       "      <td>2.268599e+05</td>\n",
       "      <td>297.27</td>\n",
       "    </tr>\n",
       "    <tr>\n",
       "      <th>Grupo 3</th>\n",
       "      <td>1.763773e+06</td>\n",
       "      <td>430.22</td>\n",
       "    </tr>\n",
       "  </tbody>\n",
       "</table>\n",
       "</div>"
      ],
      "text/plain": [
       "         Squared Error  Absolut Error\n",
       "Grupo 1   2.203501e+05        3662.86\n",
       "Grupo 2   2.268599e+05         297.27\n",
       "Grupo 3   1.763773e+06         430.22"
      ]
     },
     "execution_count": 15,
     "metadata": {},
     "output_type": "execute_result"
    }
   ],
   "source": [
    "results.set_index(pd.Index(['Grupo 1', 'Grupo 2', 'Grupo 3']))"
   ]
  }
 ],
 "metadata": {
  "kernelspec": {
   "display_name": "Python 3",
   "language": "python",
   "name": "python3"
  },
  "language_info": {
   "codemirror_mode": {
    "name": "ipython",
    "version": 3
   },
   "file_extension": ".py",
   "mimetype": "text/x-python",
   "name": "python",
   "nbconvert_exporter": "python",
   "pygments_lexer": "ipython3",
   "version": "3.8.2"
  }
 },
 "nbformat": 4,
 "nbformat_minor": 4
}
